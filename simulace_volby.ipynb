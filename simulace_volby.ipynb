{
 "metadata": {
  "language_info": {
   "codemirror_mode": {
    "name": "ipython",
    "version": 3
   },
   "file_extension": ".py",
   "mimetype": "text/x-python",
   "name": "python",
   "nbconvert_exporter": "python",
   "pygments_lexer": "ipython3",
   "version": "3.8.5-final"
  },
  "orig_nbformat": 2,
  "kernelspec": {
   "name": "python38564bit51132872a7dc49ccabe7acb2b6c49bf1",
   "display_name": "Python 3.8.5 64-bit",
   "language": "python"
  }
 },
 "nbformat": 4,
 "nbformat_minor": 2,
 "cells": [
  {
   "cell_type": "code",
   "execution_count": 1,
   "metadata": {},
   "outputs": [],
   "source": [
    "import numpy as np\n",
    "import pandas as pd\n",
    "from volby.calc import Calc, Sim\n",
    "import matplotlib.pyplot as plt\n",
    "from scipy import stats"
   ]
  },
  {
   "cell_type": "code",
   "execution_count": 2,
   "metadata": {},
   "outputs": [],
   "source": [
    "seats = {\"Praha\": 24, \"Stredocesky\": 26, \"Jihocesky\": 13, \"Plzensky\": 11, \"Karlovarsky\": 5, \"Ustecky\": 13, \"Liberecky\": 8, \"Kralovehradecky\": 11, \"Pardubicky\": 10, \"Vysocina\": 10, \"Jihomoravsky\": 23, \"Olomoucky\": 12, \"Zlinsky\": 12, \"Moravskoslezky\": 22}"
   ]
  },
  {
   "cell_type": "code",
   "execution_count": 3,
   "metadata": {},
   "outputs": [],
   "source": [
    "# get data from 2017 election\n",
    "volby_2017 = pd.read_html(\"https://volby.cz/pls/ps2017/ps61?xjazyk=CZ&xv=1\", attrs = {'class': 'table'}, index_col = 0, na_values = [\"-\"], thousands = \"\\xa0\", encoding = \"utf-8\", decimal = \",\")[0]\n",
    "volby_2017 = volby_2017.apply(lambda x: x.astype(float), axis=1)\n",
    "volby_2017 = volby_2017.iloc[np.arange(0,31), np.arange(1,volby_2017.shape[1])]\n",
    "volby_2017.fillna(0, inplace = True)\n",
    "volby2017 = volby_2017.to_dict()"
   ]
  },
  {
   "cell_type": "code",
   "execution_count": 4,
   "metadata": {},
   "outputs": [
    {
     "output_type": "execute_result",
     "data": {
      "text/plain": [
       "            Praha  Stredocesky  Jihocesky  Plzensky  Karlovarsky  Ustecky  \\\n",
       "1 ODS           5            4          2         2            0        1   \n",
       "4 ČSSD          1            2          1         1            0        1   \n",
       "7 STAN          1            2          0         0            0        0   \n",
       "8 KSČM          1            2          1         1            0        1   \n",
       "15 Piráti       5            3          1         1            1        1   \n",
       "20 TOP 09       3            2          1         0            0        0   \n",
       "21 ANO          6            9          5         5            3        7   \n",
       "24 KDU-ČSL      1            0          1         0            0        0   \n",
       "29 SPD          1            2          1         1            1        2   \n",
       "\n",
       "            Liberecky  Kralovehradecky  Pardubicky  Vysocina  Jihomoravsky  \\\n",
       "1 ODS               1                1           1         1             3   \n",
       "4 ČSSD              0                1           1         1             2   \n",
       "7 STAN              1                0           0         0             1   \n",
       "8 KSČM              0                1           1         1             2   \n",
       "15 Piráti           1                1           1         1             2   \n",
       "20 TOP 09           0                0           0         0             1   \n",
       "21 ANO              4                5           4         4             7   \n",
       "24 KDU-ČSL          0                1           1         1             2   \n",
       "29 SPD              1                1           1         1             3   \n",
       "\n",
       "            Olomoucky  Zlinsky  Moravskoslezky  \n",
       "1 ODS               1        1               2  \n",
       "4 ČSSD              1        1               2  \n",
       "7 STAN              0        1               0  \n",
       "8 KSČM              1        1               2  \n",
       "15 Piráti           1        1               2  \n",
       "20 TOP 09           0        0               0  \n",
       "21 ANO              5        4              10  \n",
       "24 KDU-ČSL          1        1               1  \n",
       "29 SPD              2        2               3  "
      ],
      "text/html": "<div>\n<style scoped>\n    .dataframe tbody tr th:only-of-type {\n        vertical-align: middle;\n    }\n\n    .dataframe tbody tr th {\n        vertical-align: top;\n    }\n\n    .dataframe thead th {\n        text-align: right;\n    }\n</style>\n<table border=\"1\" class=\"dataframe\">\n  <thead>\n    <tr style=\"text-align: right;\">\n      <th></th>\n      <th>Praha</th>\n      <th>Stredocesky</th>\n      <th>Jihocesky</th>\n      <th>Plzensky</th>\n      <th>Karlovarsky</th>\n      <th>Ustecky</th>\n      <th>Liberecky</th>\n      <th>Kralovehradecky</th>\n      <th>Pardubicky</th>\n      <th>Vysocina</th>\n      <th>Jihomoravsky</th>\n      <th>Olomoucky</th>\n      <th>Zlinsky</th>\n      <th>Moravskoslezky</th>\n    </tr>\n  </thead>\n  <tbody>\n    <tr>\n      <th>1 ODS</th>\n      <td>5</td>\n      <td>4</td>\n      <td>2</td>\n      <td>2</td>\n      <td>0</td>\n      <td>1</td>\n      <td>1</td>\n      <td>1</td>\n      <td>1</td>\n      <td>1</td>\n      <td>3</td>\n      <td>1</td>\n      <td>1</td>\n      <td>2</td>\n    </tr>\n    <tr>\n      <th>4 ČSSD</th>\n      <td>1</td>\n      <td>2</td>\n      <td>1</td>\n      <td>1</td>\n      <td>0</td>\n      <td>1</td>\n      <td>0</td>\n      <td>1</td>\n      <td>1</td>\n      <td>1</td>\n      <td>2</td>\n      <td>1</td>\n      <td>1</td>\n      <td>2</td>\n    </tr>\n    <tr>\n      <th>7 STAN</th>\n      <td>1</td>\n      <td>2</td>\n      <td>0</td>\n      <td>0</td>\n      <td>0</td>\n      <td>0</td>\n      <td>1</td>\n      <td>0</td>\n      <td>0</td>\n      <td>0</td>\n      <td>1</td>\n      <td>0</td>\n      <td>1</td>\n      <td>0</td>\n    </tr>\n    <tr>\n      <th>8 KSČM</th>\n      <td>1</td>\n      <td>2</td>\n      <td>1</td>\n      <td>1</td>\n      <td>0</td>\n      <td>1</td>\n      <td>0</td>\n      <td>1</td>\n      <td>1</td>\n      <td>1</td>\n      <td>2</td>\n      <td>1</td>\n      <td>1</td>\n      <td>2</td>\n    </tr>\n    <tr>\n      <th>15 Piráti</th>\n      <td>5</td>\n      <td>3</td>\n      <td>1</td>\n      <td>1</td>\n      <td>1</td>\n      <td>1</td>\n      <td>1</td>\n      <td>1</td>\n      <td>1</td>\n      <td>1</td>\n      <td>2</td>\n      <td>1</td>\n      <td>1</td>\n      <td>2</td>\n    </tr>\n    <tr>\n      <th>20 TOP 09</th>\n      <td>3</td>\n      <td>2</td>\n      <td>1</td>\n      <td>0</td>\n      <td>0</td>\n      <td>0</td>\n      <td>0</td>\n      <td>0</td>\n      <td>0</td>\n      <td>0</td>\n      <td>1</td>\n      <td>0</td>\n      <td>0</td>\n      <td>0</td>\n    </tr>\n    <tr>\n      <th>21 ANO</th>\n      <td>6</td>\n      <td>9</td>\n      <td>5</td>\n      <td>5</td>\n      <td>3</td>\n      <td>7</td>\n      <td>4</td>\n      <td>5</td>\n      <td>4</td>\n      <td>4</td>\n      <td>7</td>\n      <td>5</td>\n      <td>4</td>\n      <td>10</td>\n    </tr>\n    <tr>\n      <th>24 KDU-ČSL</th>\n      <td>1</td>\n      <td>0</td>\n      <td>1</td>\n      <td>0</td>\n      <td>0</td>\n      <td>0</td>\n      <td>0</td>\n      <td>1</td>\n      <td>1</td>\n      <td>1</td>\n      <td>2</td>\n      <td>1</td>\n      <td>1</td>\n      <td>1</td>\n    </tr>\n    <tr>\n      <th>29 SPD</th>\n      <td>1</td>\n      <td>2</td>\n      <td>1</td>\n      <td>1</td>\n      <td>1</td>\n      <td>2</td>\n      <td>1</td>\n      <td>1</td>\n      <td>1</td>\n      <td>1</td>\n      <td>3</td>\n      <td>2</td>\n      <td>2</td>\n      <td>3</td>\n    </tr>\n  </tbody>\n</table>\n</div>"
     },
     "metadata": {},
     "execution_count": 4
    }
   ],
   "source": [
    "v2017 = Calc(n_seats = seats, results = volby2017)\n",
    "v2017.assign_seats(threshold = 0.05, inplace = False)"
   ]
  },
  {
   "cell_type": "code",
   "execution_count": 12,
   "metadata": {},
   "outputs": [
    {
     "output_type": "stream",
     "name": "stdout",
     "text": [
      "Prc votes 0    0.164497\n1    0.085827\n2    0.104752\n3    0.096399\n4    0.158334\n5    0.172454\n6    0.156993\n7    0.060744\ndtype: float64\nPrc seats 0    0.200\n1    0.085\n2    0.100\n3    0.105\n4    0.160\n5    0.155\n6    0.155\n7    0.040\ndtype: float64\n"
     ]
    }
   ],
   "source": [
    "sim_volby = Sim(n_seats = seats, n_parties=8, threshold = 0.05)\n",
    "sim_volby.sim()\n",
    "\n",
    "print(\"Prc votes {}\".format(sim_volby.votes.sum(axis = 1) / np.sum(sim_volby.votes.sum(axis = 1))))\n",
    "print(\"Prc seats {}\".format(sim_volby.seats.sum(axis = 1) / np.sum(sim_volby.seats.sum(axis = 1))))\n",
    "\n"
   ]
  },
  {
   "cell_type": "code",
   "execution_count": null,
   "metadata": {},
   "outputs": [],
   "source": []
  }
 ]
}